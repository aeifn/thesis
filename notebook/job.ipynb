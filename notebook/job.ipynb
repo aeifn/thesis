{
 "cells": [
  {
   "cell_type": "markdown",
   "metadata": {
    "colab_type": "text",
    "id": "SVzUp9AGKybq"
   },
   "source": [
    "# The Parking challenge\n",
    "\n",
    "$M$ parking places\n",
    "\n",
    "Player costs $c(x)$:\n",
    " * $t$, if $\\tilde N\\le M$,\n",
    " * $T$, if $\\tilde N>M$;\n",
    " * $\\tau$, alternative route,\n",
    " * $t<\\tau<T$\n",
    "\n",
    "$N$ players, $N >> M$.\n",
    "\n",
    "$\\tau$ — alternative route. Compare it with lottery ${t,T}$.\n",
    "\n",
    "$P(t)$ is defined by $\\tilde N$: $P=\\frac{M}{\\tilde{N}}$ (or $1$, if $M \\le \\tilde N$).\n",
    "\n",
    "Pure equilibrium: $\\frac{M}{\\tilde N}t+(1-\\frac{M}{\\tilde{N}})T\\approx\\tau$.\n",
    "\n",
    "-----------------\n",
    "\n",
    "$\\tilde{N}$ (количество севших за руль) : $\\frac{M}{\\tilde{N}}t+(1-\\frac{M}{\\tilde{N}})T\\le\\tau$.\n",
    "\n",
    "${N-\\tilde N}$ (кто едет транспортом) : $\\frac{M}{(\\tilde{N}+1)}t+(1-\\frac{M}{\\tilde{N}+1})T\\ge\\tau$.\n",
    "\n",
    "-----------------\n",
    "\n",
    "$T-\\tau = \\frac{M}{\\tilde{N}}(T-t)$\n",
    "\n",
    "$\\tilde{N}=[\\frac{M(T-t)}{T-\\tau}]$ — pure equilibrium. Но «так не бывает», ибо неясно, кто эти счастливчики.\n",
    "\n",
    "$p$ — вероятность сесть за руль.\n",
    "\n",
    "$Q$[тебе достанется место] такова, что $\\tau = Qt+(1-Q)T \\Rightarrow Q(T-t)=T-\\tau$, $Q*=\\frac{T-\\tau}{T-t}$.\n",
    "\n",
    "Но! $Q$ должно быть вычислено как функция от $p$!\n",
    "\n",
    "$(1-p)^{N-1} + \\\\ (N-1)p(1-p)^{N-2} + \\\\ C_{N-1}^2 p^2(1-p)^{N-2} + ... + \\\\ C_{N-1}^{M-1}p^{M-1}(1-p)^{N-M} + \\\\ C_{N-1}^{M}p^M(1-p)^{N-M-1}(\\frac{M}{M+1}) + \\\\ C_{N-1}^{M+1}p^{M+1}(1-p)^{N-M-2}(\\frac{M}{M+2}) + \\\\ p^{N-1}\\frac{M}{N} = \\\\ Q^*$\n",
    "\n",
    "Решить как обратную функцию, найти $p^*$ — решение $p^*(\\frac{T-\\tau}{T-t})$.\n",
    "\n",
    "\n",
    "Гипотеза: в равновесии $Np^* >> M$."
   ]
  },
  {
   "cell_type": "markdown",
   "metadata": {
    "colab_type": "text",
    "id": "lR5iQfoHLcnZ"
   },
   "source": [
    "$\n",
    "{N \\choose 0} p^0(1-p)^N + \\\\\n",
    "{N \\choose 1}p^1(1-p)^{N-1}  + \\\\\n",
    "... + \\\\\n",
    "{N \\choose K-1} p^{k-1}(1-p)^{N-K+1} + \\\\\n",
    "{N \\choose K} p^k(1-p)^{N-K} (\\frac{K}{K+1}) + \\\\\n",
    "{N \\choose K+1}p^{K+1}(1-p^{N-K-1}(\\frac{K}{K+2}+\\\\\n",
    "...+\\\\\n",
    "{N \\choose N}p^n(1-p)^0(\\frac{K}{N+1})\n",
    "$\n",
    "\n",
    "\n"
   ]
  },
  {
   "cell_type": "code",
   "execution_count": 1,
   "metadata": {
    "colab": {
     "base_uri": "https://localhost:8080/",
     "height": 286
    },
    "colab_type": "code",
    "id": "nfsb71OiKybt",
    "outputId": "6efa9224-ca7a-4817-b6db-b92cbb63d036"
   },
   "outputs": [
    {
     "name": "stdout",
     "output_type": "stream",
     "text": [
      "0.5\n"
     ]
    },
    {
     "data": {
      "image/png": "[encoded data removed]",
      "text/plain": [
       "<Figure size 432x288 with 1 Axes>"
      ]
     },
     "metadata": {
      "needs_background": "light"
     },
     "output_type": "display_data"
    }
   ],
   "source": [
    "import numpy, math\n",
    "import matplotlib.pyplot as plt\n",
    "\n",
    "N=1000\n",
    "K=100\n",
    "\n",
    "t=1\n",
    "tau=2\n",
    "T=3\n",
    "\n",
    "Qs=(T-tau)/(T-t)\n",
    "\n",
    "print(Qs)\n",
    "\n",
    "def binom(n, k):\n",
    "    return math.factorial(n) // math.factorial(k) // math.factorial(n - k)\n",
    "\n",
    "def calc(p):\n",
    "  answer = 0\n",
    "  for i in range(N):\n",
    "    b = binom(N,i)\n",
    "    #print(b)\n",
    "    p_1=p**i\n",
    "    #print(p_1)\n",
    "    p_2=(1-p)**(N-i)\n",
    "    #print(p_2)\n",
    "    if i>=K:\n",
    "      k_1=K/(i+1)\n",
    "    else:\n",
    "      k_1=1\n",
    "    answer = answer + b*p_1*p_2*k_1\n",
    "  return answer\n",
    "\n",
    "plt_x=[]\n",
    "plt_y=[]\n",
    "for i in numpy.arange(0,1,.01):\n",
    "  x=i\n",
    "  y=calc(i)\n",
    "  plt.scatter(x,y)\n",
    "\n",
    "plt.show()"
   ]
  },
  {
   "cell_type": "markdown",
   "metadata": {
    "colab_type": "text",
    "id": "EJZjAHwBRrQ7"
   },
   "source": [
    "# Bibliography\n",
    "Noam Nisan, Algoritmic game theory 2007"
   ]
  }
 ],
 "metadata": {
  "colab": {
   "collapsed_sections": [],
   "name": "master.txt",
   "provenance": []
  },
  "kernelspec": {
   "display_name": "Python 3",
   "language": "python",
   "name": "python3"
  },
  "language_info": {
   "codemirror_mode": {
    "name": "ipython",
    "version": 3
   },
   "file_extension": ".py",
   "mimetype": "text/x-python",
   "name": "python",
   "nbconvert_exporter": "python",
   "pygments_lexer": "ipython3",
   "version": "3.7.6"
  }
 },
 "nbformat": 4,
 "nbformat_minor": 1
}
