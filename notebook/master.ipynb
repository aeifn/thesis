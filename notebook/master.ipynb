{
 "cells": [
  {
   "cell_type": "markdown",
   "metadata": {},
   "source": [
    "# The Parking challenge\n",
    "\n",
    "$M$ parking places\n",
    "\n",
    "Player costs $c(x)$:\n",
    " * $t$, if $\\tilde N\\le M$,\n",
    " * $T$, if $\\tilde N>M$;\n",
    " * $\\tau$, alternative route,\n",
    " * $t<\\tau<T$\n",
    "\n",
    "$N$ players, $N >> M$.\n",
    "\n",
    "It resembles Pigou Example (Noam Nisan, Algoritmic game theory 2007, page. 447) with two routes. Cost function on one of them depends on $x$:\n",
    "<img src=\"img/pigou.png\"/>\n",
    "\n",
    "$\\tau$ — alternative route. Compare it with lottery ${t,T}$.\n",
    "\n",
    "$P(t)$ is defined by $\\tilde N$: $P=\\frac{M}{\\tilde{N}}$ (or $1$, if $M \\le \\tilde N$).\n",
    "\n",
    "Pure equilibrium: $\\frac{M}{\\tilde N}t+(1-\\frac{M}{\\tilde{N}})T\\approx\\tau$.\n",
    "\n",
    "-----------------\n",
    "\n",
    "$\\tilde{N}$ (количество севших за руль) : $\\frac{M}{\\tilde{N}}t+(1-\\frac{M}{\\tilde{N}})T\\le\\tau$.\n",
    "\n",
    "${N-\\tilde N}$ (кто едет транспортом) : $\\frac{M}{(\\tilde{N}+1)}t+(1-\\frac{M}{\\tilde{N}+1})T\\ge\\tau$.\n",
    "\n",
    "-----------------\n",
    "\n",
    "$T-\\tau = \\frac{M}{\\tilde{N}}(T-t)$\n",
    "\n",
    "$\\tilde{N}=[\\frac{M(T-t)}{T-\\tau}]$ — pure equilibrium. Но «так не бывает», ибо неясно, кто эти счастливчики.\n",
    "\n",
    "$p$ — вероятность сесть за руль.\n",
    "\n",
    "$Q$[тебе достанется место] такова, что $\\tau = Qt+(1-Q)T \\Rightarrow Q(T-t)=T-\\tau$, $Q*=\\frac{T-\\tau}{T-t}$.\n",
    "\n",
    "Но! $Q$ должно быть вычислено как функция от $p$!\n",
    "\n",
    "$(1-p)^{N-1} + \\\\ (N-1)p(1-p)^{N-2} + \\\\ C_{N-1}^2 p^2(1-p)^{N-2} + ... + \\\\ C_{N-1}^{M-1}p^{M-1}(1-p)^{N-M} + \\\\ C_{N-1}^{M}p^M(1-p)^{N-M-1}(\\frac{M}{M+1}) + \\\\ C_{N-1}^{M+1}p^{M+1}(1-p)^{N-M-2}(\\frac{M}{M+2}) + \\\\ p^{N-1}\\frac{M}{N} = \\\\ Q^*$\n",
    "\n",
    "Решить как обратную функцию, найти $p^*$ — решение $p^*(\\frac{T-\\tau}{T-t})$.\n",
    "\n",
    "\n",
    "Гипотеза: в равновесии $Np^* >> M$."
   ]
  },
  {
   "cell_type": "code",
   "execution_count": 8,
   "metadata": {},
   "outputs": [
    {
     "name": "stdout",
     "output_type": "stream",
     "text": [
      "0.0\n",
      "0.1\n",
      "0.2\n",
      "0.30000000000000004\n",
      "0.4\n",
      "0.5\n",
      "0.6000000000000001\n",
      "0.7000000000000001\n",
      "0.8\n",
      "0.9\n"
     ]
    }
   ],
   "source": [
    "import numpy\n",
    "\n",
    "N=100\n",
    "M=10\n",
    "\n",
    "t=1\n",
    "tau=2\n",
    "T=3\n",
    "\n",
    "Qs=(T-tau)/(T-t)\n",
    "\n",
    "for i in numpy.arange(0,1,.1):\n",
    "    print(i)\n",
    "    \n"
   ]
  }
 ],
 "metadata": {
  "kernelspec": {
   "display_name": "Python 3",
   "language": "python",
   "name": "python3"
  },
  "language_info": {
   "codemirror_mode": {
    "name": "ipython",
    "version": 3
   },
   "file_extension": ".py",
   "mimetype": "text/x-python",
   "name": "python",
   "nbconvert_exporter": "python",
   "pygments_lexer": "ipython3",
   "version": "3.7.6"
  }
 },
 "nbformat": 4,
 "nbformat_minor": 2
}
